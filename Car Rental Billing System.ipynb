{
 "cells": [
  {
   "cell_type": "code",
   "execution_count": 1,
   "id": "cf104fbd-b864-49b2-bedc-b028d9eaf806",
   "metadata": {},
   "outputs": [
    {
     "name": "stdin",
     "output_type": "stream",
     "text": [
      "Enter car type (Economy, Standard, Luxury):  Economy\n"
     ]
    }
   ],
   "source": [
    "# Task 1: Define Rental Rates Based on Car Type\n",
    "car_type = input(\"Enter car type (Economy, Standard, Luxury): \")\n",
    "rental_rates = {\"Economy\": 30, \"Standard\": 50, \"Luxury\": 100}\n",
    "\n",
    "if car_type in rental_rates:\n",
    "    daily_rental_rate = rental_rates[car_type]\n",
    "else:\n",
    "    print(\"Error: Invalid car type entered.\")\n",
    "    exit()"
   ]
  },
  {
   "cell_type": "code",
   "execution_count": 2,
   "id": "e66485b3-fcc9-4547-9e13-da97f7c09658",
   "metadata": {},
   "outputs": [
    {
     "name": "stdin",
     "output_type": "stream",
     "text": [
      "Enter the number of rental days:  2\n"
     ]
    }
   ],
   "source": [
    "# Task 2: Get Number of Rental Days\n",
    "rental_days = int(input(\"Enter the number of rental days: \"))\n",
    "\n",
    "if rental_days <= 0:\n",
    "    print(\"Error: The number of rental days must be a positive integer.\")\n",
    "    exit()"
   ]
  },
  {
   "cell_type": "code",
   "execution_count": 3,
   "id": "9393098d-8522-45fb-9330-b01ac62092e8",
   "metadata": {},
   "outputs": [
    {
     "name": "stdin",
     "output_type": "stream",
     "text": [
      "Enter membership type (Premium, Standard, None):  Premium\n"
     ]
    },
    {
     "name": "stdout",
     "output_type": "stream",
     "text": [
      "Membership: Premium, Discount: 12.00, Adjusted Fee: 48.00\n"
     ]
    }
   ],
   "source": [
    "# Task 3: Apply Membership Discounts\n",
    "membership_type = input(\"Enter membership type (Premium, Standard, None): \")\n",
    "membership_discounts = {\"Premium\": 0.20, \"Standard\": 0.10, \"None\": 0.0}\n",
    "\n",
    "if membership_type in membership_discounts:\n",
    "    discount_rate = membership_discounts[membership_type]\n",
    "    base_fee = daily_rental_rate * rental_days\n",
    "    discount_fee = base_fee * discount_rate\n",
    "    adjusted_fee = base_fee - discount_fee\n",
    "    print(f\"Membership: {membership_type}, Discount: {discount_fee:.2f}, Adjusted Fee: {adjusted_fee:.2f}\")\n",
    "else:\n",
    "    print(\"Error: Invalid membership type entered.\")\n",
    "    exit()\n",
    "\n"
   ]
  },
  {
   "cell_type": "code",
   "execution_count": 4,
   "id": "b4d8231f-cb0c-427b-9706-63d36ffce2e8",
   "metadata": {},
   "outputs": [
    {
     "name": "stdin",
     "output_type": "stream",
     "text": [
      "Do you want insurance (yes or no)?  yes\n"
     ]
    },
    {
     "name": "stdout",
     "output_type": "stream",
     "text": [
      "Additional Services Fee: 40.00\n"
     ]
    }
   ],
   "source": [
    "# Task 4: Calculate Insurance Fees\n",
    "insurance_opt = input(\"Do you want insurance (yes or no)? \").lower()\n",
    "insurance_fee = 0\n",
    "if insurance_opt == \"yes\":\n",
    "    insurance_fee = 20 * rental_days\n",
    "elif insurance_opt == \"no\":\n",
    "    insurance_fee = 0\n",
    "else:\n",
    "    print(\"Error: Invalid response for optional services.\")\n",
    "    exit()\n",
    "\n",
    "additional_services_fee = insurance_fee\n",
    "print(f\"Additional Services Fee: {additional_services_fee:.2f}\")\n",
    "\n"
   ]
  },
  {
   "cell_type": "code",
   "execution_count": 5,
   "id": "21740b1d-ceed-451a-8300-64be71a24eae",
   "metadata": {},
   "outputs": [
    {
     "name": "stdin",
     "output_type": "stream",
     "text": [
      "Enter the number of days the car was returned late:  5\n"
     ]
    },
    {
     "name": "stdout",
     "output_type": "stream",
     "text": [
      "Late Penalty: 50.00\n"
     ]
    }
   ],
   "source": [
    "# Task 5: Late Return Fees\n",
    "late_return_days = int(input(\"Enter the number of days the car was returned late: \"))\n",
    "late_penalty = 0\n",
    "if late_return_days > 0:\n",
    "    late_penalty = late_return_days * 10\n",
    "print(f\"Late Penalty: {late_penalty:.2f}\")\n",
    "\n"
   ]
  },
  {
   "cell_type": "code",
   "execution_count": 6,
   "id": "2d203c0a-19fa-481e-9162-ba2089167ced",
   "metadata": {},
   "outputs": [
    {
     "name": "stdout",
     "output_type": "stream",
     "text": [
      "\n",
      "Rental Summary\n",
      "Car Type: Economy, Daily Rental Rate: $30/day\n",
      "Rental Days: 2, Base Fee: $60.00\n",
      "Membership: Premium, Adjusted Fee: $48.00\n",
      "Additional Services Fee: $40.00\n",
      "Late Penalty: $50.00\n",
      "Total Rental Fee: $138.00\n"
     ]
    }
   ],
   "source": [
    "# Task 6: Generate Final Rental Fee\n",
    "total_rental_fee = adjusted_fee + additional_services_fee + late_penalty\n",
    "\n",
    "print(\"\\nRental Summary\")\n",
    "print(f\"Car Type: {car_type}, Daily Rental Rate: ${daily_rental_rate}/day\")\n",
    "print(f\"Rental Days: {rental_days}, Base Fee: ${base_fee:.2f}\")\n",
    "print(f\"Membership: {membership_type}, Adjusted Fee: ${adjusted_fee:.2f}\")\n",
    "print(f\"Additional Services Fee: ${additional_services_fee:.2f}\")\n",
    "print(f\"Late Penalty: ${late_penalty:.2f}\")\n",
    "print(f\"Total Rental Fee: ${total_rental_fee:.2f}\")"
   ]
  },
  {
   "cell_type": "code",
   "execution_count": null,
   "id": "2487d5e7-7575-4ad0-abdc-f32e920ca157",
   "metadata": {},
   "outputs": [],
   "source": []
  }
 ],
 "metadata": {
  "kernelspec": {
   "display_name": "Python 3 (ipykernel)",
   "language": "python",
   "name": "python3"
  },
  "language_info": {
   "codemirror_mode": {
    "name": "ipython",
    "version": 3
   },
   "file_extension": ".py",
   "mimetype": "text/x-python",
   "name": "python",
   "nbconvert_exporter": "python",
   "pygments_lexer": "ipython3",
   "version": "3.12.7"
  }
 },
 "nbformat": 4,
 "nbformat_minor": 5
}
